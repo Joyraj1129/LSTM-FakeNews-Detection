{
 "cells": [
  {
   "cell_type": "markdown",
   "id": "0c1863a4-87fe-4927-80b8-5ec56de4e361",
   "metadata": {},
   "source": [
    "### Dataset : https://www.kaggle.com/c/fake-news/data#"
   ]
  },
  {
   "cell_type": "code",
   "execution_count": 1,
   "id": "d56952f1-0ffb-491e-8c1d-775ca8861969",
   "metadata": {
    "tags": []
   },
   "outputs": [],
   "source": [
    "#Creating an LSTM model for fake news detection using kaggle dataset\n",
    "import pandas as pd \n",
    "import numpy as np \n",
    "import matplotlib.pyplot as plt \n",
    "import seaborn as sns"
   ]
  },
  {
   "cell_type": "code",
   "execution_count": 2,
   "id": "a1bba4d4-7747-4cb9-977b-187b966b284e",
   "metadata": {
    "tags": []
   },
   "outputs": [],
   "source": [
    "train = pd.read_csv('train.csv')"
   ]
  },
  {
   "cell_type": "code",
   "execution_count": 3,
   "id": "b926d72f-8bc6-48b2-86d7-56ef5505c450",
   "metadata": {
    "tags": []
   },
   "outputs": [
    {
     "data": {
      "text/html": [
       "<div>\n",
       "<style scoped>\n",
       "    .dataframe tbody tr th:only-of-type {\n",
       "        vertical-align: middle;\n",
       "    }\n",
       "\n",
       "    .dataframe tbody tr th {\n",
       "        vertical-align: top;\n",
       "    }\n",
       "\n",
       "    .dataframe thead th {\n",
       "        text-align: right;\n",
       "    }\n",
       "</style>\n",
       "<table border=\"1\" class=\"dataframe\">\n",
       "  <thead>\n",
       "    <tr style=\"text-align: right;\">\n",
       "      <th></th>\n",
       "      <th>id</th>\n",
       "      <th>title</th>\n",
       "      <th>author</th>\n",
       "      <th>text</th>\n",
       "      <th>label</th>\n",
       "    </tr>\n",
       "  </thead>\n",
       "  <tbody>\n",
       "    <tr>\n",
       "      <th>0</th>\n",
       "      <td>0</td>\n",
       "      <td>House Dem Aide: We Didn’t Even See Comey’s Let...</td>\n",
       "      <td>Darrell Lucus</td>\n",
       "      <td>House Dem Aide: We Didn’t Even See Comey’s Let...</td>\n",
       "      <td>1</td>\n",
       "    </tr>\n",
       "    <tr>\n",
       "      <th>1</th>\n",
       "      <td>1</td>\n",
       "      <td>FLYNN: Hillary Clinton, Big Woman on Campus - ...</td>\n",
       "      <td>Daniel J. Flynn</td>\n",
       "      <td>Ever get the feeling your life circles the rou...</td>\n",
       "      <td>0</td>\n",
       "    </tr>\n",
       "    <tr>\n",
       "      <th>2</th>\n",
       "      <td>2</td>\n",
       "      <td>Why the Truth Might Get You Fired</td>\n",
       "      <td>Consortiumnews.com</td>\n",
       "      <td>Why the Truth Might Get You Fired October 29, ...</td>\n",
       "      <td>1</td>\n",
       "    </tr>\n",
       "    <tr>\n",
       "      <th>3</th>\n",
       "      <td>3</td>\n",
       "      <td>15 Civilians Killed In Single US Airstrike Hav...</td>\n",
       "      <td>Jessica Purkiss</td>\n",
       "      <td>Videos 15 Civilians Killed In Single US Airstr...</td>\n",
       "      <td>1</td>\n",
       "    </tr>\n",
       "    <tr>\n",
       "      <th>4</th>\n",
       "      <td>4</td>\n",
       "      <td>Iranian woman jailed for fictional unpublished...</td>\n",
       "      <td>Howard Portnoy</td>\n",
       "      <td>Print \\nAn Iranian woman has been sentenced to...</td>\n",
       "      <td>1</td>\n",
       "    </tr>\n",
       "  </tbody>\n",
       "</table>\n",
       "</div>"
      ],
      "text/plain": [
       "   id                                              title              author   \n",
       "0   0  House Dem Aide: We Didn’t Even See Comey’s Let...       Darrell Lucus  \\\n",
       "1   1  FLYNN: Hillary Clinton, Big Woman on Campus - ...     Daniel J. Flynn   \n",
       "2   2                  Why the Truth Might Get You Fired  Consortiumnews.com   \n",
       "3   3  15 Civilians Killed In Single US Airstrike Hav...     Jessica Purkiss   \n",
       "4   4  Iranian woman jailed for fictional unpublished...      Howard Portnoy   \n",
       "\n",
       "                                                text  label  \n",
       "0  House Dem Aide: We Didn’t Even See Comey’s Let...      1  \n",
       "1  Ever get the feeling your life circles the rou...      0  \n",
       "2  Why the Truth Might Get You Fired October 29, ...      1  \n",
       "3  Videos 15 Civilians Killed In Single US Airstr...      1  \n",
       "4  Print \\nAn Iranian woman has been sentenced to...      1  "
      ]
     },
     "execution_count": 3,
     "metadata": {},
     "output_type": "execute_result"
    }
   ],
   "source": [
    "train.head(5)"
   ]
  },
  {
   "cell_type": "code",
   "execution_count": 4,
   "id": "52114a2b-f928-4928-9f79-9ceb81b046d6",
   "metadata": {
    "tags": []
   },
   "outputs": [
    {
     "data": {
      "text/plain": [
       "id           0\n",
       "title      558\n",
       "author    1957\n",
       "text        39\n",
       "label        0\n",
       "dtype: int64"
      ]
     },
     "execution_count": 4,
     "metadata": {},
     "output_type": "execute_result"
    }
   ],
   "source": [
    "train.isna().sum()"
   ]
  },
  {
   "cell_type": "code",
   "execution_count": 5,
   "id": "711c7c3e-ec9c-4ee9-b050-1b029c7bd20c",
   "metadata": {
    "tags": []
   },
   "outputs": [
    {
     "data": {
      "text/plain": [
       "0.026826923076923078"
      ]
     },
     "execution_count": 5,
     "metadata": {},
     "output_type": "execute_result"
    }
   ],
   "source": [
    "#Dropping the na values,Since we are using the titles.\n",
    "train.isna().sum()[1]/len(train)\n",
    "#Only 2% of the Data is "
   ]
  },
  {
   "cell_type": "code",
   "execution_count": 6,
   "id": "ae57ddd5-5f8d-4704-9417-d4b35d8a2a38",
   "metadata": {
    "tags": []
   },
   "outputs": [],
   "source": [
    "train = train.drop(['author','id','text'],axis=1)"
   ]
  },
  {
   "cell_type": "code",
   "execution_count": 7,
   "id": "97beeb95-7efd-4b2f-80a7-4b37b0f074f8",
   "metadata": {
    "tags": []
   },
   "outputs": [
    {
     "data": {
      "text/plain": [
       "title    2.682692\n",
       "label    0.000000\n",
       "dtype: float64"
      ]
     },
     "execution_count": 7,
     "metadata": {},
     "output_type": "execute_result"
    }
   ],
   "source": [
    "train.isna().sum()/len(train)*100"
   ]
  },
  {
   "cell_type": "code",
   "execution_count": 8,
   "id": "820c279f-e3af-4d9c-8ef9-c65957cb2e64",
   "metadata": {
    "tags": []
   },
   "outputs": [],
   "source": [
    "train = train.dropna()"
   ]
  },
  {
   "cell_type": "code",
   "execution_count": 9,
   "id": "802f3a25-1d64-447f-9749-ea0ccc1bac81",
   "metadata": {
    "tags": []
   },
   "outputs": [],
   "source": [
    "train.reset_index(inplace = True)"
   ]
  },
  {
   "cell_type": "code",
   "execution_count": 10,
   "id": "705d68cb-9506-48fa-9200-4714e2b34b20",
   "metadata": {
    "tags": []
   },
   "outputs": [],
   "source": [
    "X,y=train['title'],train['label']"
   ]
  },
  {
   "cell_type": "code",
   "execution_count": 11,
   "id": "570e428b-a5f7-411e-9d86-7dbcc37b99c2",
   "metadata": {
    "tags": []
   },
   "outputs": [],
   "source": [
    "#Use preprocessing to clean the data,get rid of stopwords and special characters\n",
    "import nltk\n",
    "import re\n",
    "from nltk.corpus import stopwords"
   ]
  },
  {
   "cell_type": "code",
   "execution_count": 12,
   "id": "f9e8e40e-83f8-4572-9aa9-ab7b3eb04a50",
   "metadata": {
    "tags": []
   },
   "outputs": [],
   "source": [
    "X_post = X.copy()"
   ]
  },
  {
   "cell_type": "code",
   "execution_count": 13,
   "id": "2014e42e-8f45-45cb-ab49-7d21c33ec1b1",
   "metadata": {
    "tags": []
   },
   "outputs": [],
   "source": [
    "from nltk.stem.porter import PorterStemmer\n",
    "porter = PorterStemmer()\n",
    "corpus = []\n",
    "for i in range(0, len(X.copy())):\n",
    "    review = re.sub('[^a-zA-Z]', ' ',X_post[i])\n",
    "    review = review.lower()\n",
    "    review = review.split()\n",
    "    review = [porter.stem(word) for word in review if not word in stopwords.words('english')]\n",
    "    #review = \" \".join(review)\n",
    "    corpus.append(review)"
   ]
  },
  {
   "cell_type": "code",
   "execution_count": 14,
   "id": "47e7ded8-6bac-49e1-9e5b-ca0392be4650",
   "metadata": {
    "tags": []
   },
   "outputs": [
    {
     "data": {
      "text/plain": [
       "[['flynn', 'hillari', 'clinton', 'big', 'woman', 'campu', 'breitbart'],\n",
       " ['truth', 'might', 'get', 'fire'],\n",
       " ['civilian', 'kill', 'singl', 'us', 'airstrik', 'identifi'],\n",
       " ['iranian',\n",
       "  'woman',\n",
       "  'jail',\n",
       "  'fiction',\n",
       "  'unpublish',\n",
       "  'stori',\n",
       "  'woman',\n",
       "  'stone',\n",
       "  'death',\n",
       "  'adulteri']]"
      ]
     },
     "execution_count": 14,
     "metadata": {},
     "output_type": "execute_result"
    }
   ],
   "source": [
    "corpus[1:5]"
   ]
  },
  {
   "cell_type": "code",
   "execution_count": 15,
   "id": "e32a09ca-2ec9-47a6-ac9a-068134f79c03",
   "metadata": {
    "tags": []
   },
   "outputs": [
    {
     "name": "stdout",
     "output_type": "stream",
     "text": [
      "47\n"
     ]
    }
   ],
   "source": [
    "#To form the correct padded_sentences for embedding matrix.\n",
    "t=0 \n",
    "for i in range(0,len(corpus)):\n",
    "    if len(corpus[i])>=t:\n",
    "        t = len(corpus[i])\n",
    "print(t)"
   ]
  },
  {
   "cell_type": "code",
   "execution_count": 16,
   "id": "5c23dc46-3916-459c-8350-e1766491886e",
   "metadata": {
    "tags": []
   },
   "outputs": [
    {
     "data": {
      "text/plain": [
       "47"
      ]
     },
     "execution_count": 16,
     "metadata": {},
     "output_type": "execute_result"
    }
   ],
   "source": [
    "#Another way for correctly identifying the padding for embedding matrix.\n",
    "q=[len(corpus[i]) for i in range(0,len(corpus))]\n",
    "max(q)"
   ]
  },
  {
   "cell_type": "code",
   "execution_count": 17,
   "id": "4a5c8918-7c01-4310-ba72-26015c2ea019",
   "metadata": {
    "tags": []
   },
   "outputs": [],
   "source": [
    "messages =[]\n",
    "for i in range(0,len(corpus)):\n",
    "    item = corpus[i]\n",
    "    item = \" \".join(item)\n",
    "    messages.append(item)"
   ]
  },
  {
   "cell_type": "code",
   "execution_count": 18,
   "id": "5c20bc0d-0dbb-4aaf-acae-6f090bec68ae",
   "metadata": {
    "tags": []
   },
   "outputs": [
    {
     "data": {
      "text/plain": [
       "['flynn hillari clinton big woman campu breitbart',\n",
       " 'truth might get fire',\n",
       " 'civilian kill singl us airstrik identifi',\n",
       " 'iranian woman jail fiction unpublish stori woman stone death adulteri']"
      ]
     },
     "execution_count": 18,
     "metadata": {},
     "output_type": "execute_result"
    }
   ],
   "source": [
    "messages[1:5]"
   ]
  },
  {
   "cell_type": "code",
   "execution_count": 19,
   "id": "6d9886cf-65fa-4ab4-94de-d1b76671d189",
   "metadata": {
    "tags": []
   },
   "outputs": [],
   "source": [
    "from tensorflow.keras.layers import Embedding\n",
    "from tensorflow.keras.preprocessing.sequence import pad_sequences\n",
    "from tensorflow.keras.models import Sequential\n",
    "from tensorflow.keras.preprocessing.text import one_hot\n",
    "from tensorflow.keras.layers import LSTM\n",
    "from tensorflow.keras.layers import Dense\n",
    "from tensorflow.keras.layers import Flatten"
   ]
  },
  {
   "cell_type": "code",
   "execution_count": 20,
   "id": "4d12a808-647c-434b-97cd-c2b89a73b1e7",
   "metadata": {
    "tags": []
   },
   "outputs": [],
   "source": [
    "voc_size = 10000"
   ]
  },
  {
   "cell_type": "code",
   "execution_count": 21,
   "id": "aac25671-2f47-4a14-b22c-181c073ab2da",
   "metadata": {
    "tags": []
   },
   "outputs": [
    {
     "data": {
      "text/plain": [
       "[[1262, 3901, 2523, 6531, 2556, 4256, 6267],\n",
       " [1539, 8871, 3597, 9540],\n",
       " [8857, 5476, 3189, 385, 7027, 9430],\n",
       " [8518, 2556, 16, 4892, 5610, 4375, 2556, 6550, 2565, 9499],\n",
       " [5008,\n",
       "  1840,\n",
       "  8524,\n",
       "  3978,\n",
       "  5444,\n",
       "  8079,\n",
       "  5182,\n",
       "  6764,\n",
       "  9161,\n",
       "  8140,\n",
       "  7073,\n",
       "  2333,\n",
       "  2704,\n",
       "  6952,\n",
       "  6267],\n",
       " [9701, 9701, 3947, 6870, 5232, 6751, 2141, 239, 837, 2617, 8059, 4308],\n",
       " [1247, 9659, 5802, 9825, 8802, 7325, 3162, 8977, 707, 717, 6852],\n",
       " [7544, 1507, 5014, 5803, 8079, 5846, 3002, 4449, 1496, 9417, 707, 717, 6852],\n",
       " [9253, 6082, 4073, 5644, 6443, 7688, 8079, 2054, 707, 717, 6852]]"
      ]
     },
     "execution_count": 21,
     "metadata": {},
     "output_type": "execute_result"
    }
   ],
   "source": [
    "#Using One Hot encodding to convert the words from text format,could also use tokenizer\n",
    "onehot_repr=[one_hot(words,voc_size)for words in messages] \n",
    "onehot_repr[1:10]"
   ]
  },
  {
   "cell_type": "code",
   "execution_count": 22,
   "id": "b1dd8632-5061-4b42-a306-90985abcae91",
   "metadata": {
    "tags": []
   },
   "outputs": [
    {
     "name": "stdout",
     "output_type": "stream",
     "text": [
      "[[1444 2990 2938 ...    0    0    0]\n",
      " [1262 3901 2523 ...    0    0    0]\n",
      " [1539 8871 3597 ...    0    0    0]\n",
      " ...\n",
      " [5167 8903 2520 ...    0    0    0]\n",
      " [1303 6443 3047 ...    0    0    0]\n",
      " [5015 4883 4800 ...    0    0    0]]\n"
     ]
    }
   ],
   "source": [
    "#Choose a sentence length higher than 47 for padding \n",
    "sent_length=50\n",
    "embedded_docs=pad_sequences(onehot_repr,padding='post',maxlen=sent_length)\n",
    "print(embedded_docs)"
   ]
  },
  {
   "cell_type": "code",
   "execution_count": 23,
   "id": "e6aaef6e-219f-43cb-8cc3-e4f2f441e5a4",
   "metadata": {
    "tags": []
   },
   "outputs": [
    {
     "name": "stdout",
     "output_type": "stream",
     "text": [
      "Model: \"sequential\"\n",
      "_________________________________________________________________\n",
      " Layer (type)                Output Shape              Param #   \n",
      "=================================================================\n",
      " embedding (Embedding)       (None, 50, 20)            200000    \n",
      "                                                                 \n",
      " lstm (LSTM)                 (None, 100)               48400     \n",
      "                                                                 \n",
      " flatten (Flatten)           (None, 100)               0         \n",
      "                                                                 \n",
      " dense (Dense)               (None, 1)                 101       \n",
      "                                                                 \n",
      "=================================================================\n",
      "Total params: 248501 (970.71 KB)\n",
      "Trainable params: 248501 (970.71 KB)\n",
      "Non-trainable params: 0 (0.00 Byte)\n",
      "_________________________________________________________________\n",
      "None\n"
     ]
    }
   ],
   "source": [
    "#Creating an initial model \n",
    "embedding_vector_features=20\n",
    "model=Sequential()\n",
    "model.add(Embedding(voc_size,embedding_vector_features,input_length=sent_length))\n",
    "model.add(LSTM(100))\n",
    "model.add(Flatten())\n",
    "model.add(Dense(1,activation='sigmoid'))\n",
    "model.compile(loss='binary_crossentropy',optimizer='adam',metrics=['accuracy'])\n",
    "print(model.summary())"
   ]
  },
  {
   "cell_type": "code",
   "execution_count": 24,
   "id": "3147ff03-9e5e-497e-9541-c916d3621e8d",
   "metadata": {
    "tags": []
   },
   "outputs": [],
   "source": [
    "X_fn=np.array(embedded_docs)\n",
    "y_fn=np.array(y)"
   ]
  },
  {
   "cell_type": "code",
   "execution_count": 25,
   "id": "7b73b34b-fd0f-4321-9653-393f9159a6fa",
   "metadata": {
    "tags": []
   },
   "outputs": [],
   "source": [
    "#Train and validation split for evaluating the model\n",
    "from sklearn.model_selection import train_test_split\n",
    "X_train, X_test, y_train, y_test = train_test_split(X_fn, y_fn, test_size=0.3, random_state=42)"
   ]
  },
  {
   "cell_type": "code",
   "execution_count": 26,
   "id": "9ccd4077-2f5b-4301-b618-6fdd6f1d9837",
   "metadata": {
    "tags": []
   },
   "outputs": [
    {
     "name": "stdout",
     "output_type": "stream",
     "text": [
      "Epoch 1/10\n",
      "142/142 [==============================] - 8s 49ms/step - loss: 0.6867 - accuracy: 0.5206 - val_loss: 0.4188 - val_accuracy: 0.8666\n",
      "Epoch 2/10\n",
      "142/142 [==============================] - 7s 47ms/step - loss: 0.6109 - accuracy: 0.6367 - val_loss: 0.6930 - val_accuracy: 0.5133\n",
      "Epoch 3/10\n",
      "142/142 [==============================] - 7s 46ms/step - loss: 0.6930 - accuracy: 0.5095 - val_loss: 0.6927 - val_accuracy: 0.5145\n",
      "Epoch 4/10\n",
      "142/142 [==============================] - 7s 47ms/step - loss: 0.6779 - accuracy: 0.5505 - val_loss: 0.6116 - val_accuracy: 0.6380\n",
      "Epoch 5/10\n",
      "142/142 [==============================] - 7s 47ms/step - loss: 0.5313 - accuracy: 0.7281 - val_loss: 0.3533 - val_accuracy: 0.8837\n",
      "Epoch 6/10\n",
      "142/142 [==============================] - 7s 48ms/step - loss: 0.2484 - accuracy: 0.9143 - val_loss: 0.2054 - val_accuracy: 0.9375\n",
      "Epoch 7/10\n",
      "142/142 [==============================] - 7s 47ms/step - loss: 0.1483 - accuracy: 0.9487 - val_loss: 0.1495 - val_accuracy: 0.9525\n",
      "Epoch 8/10\n",
      "142/142 [==============================] - 7s 48ms/step - loss: 0.1091 - accuracy: 0.9651 - val_loss: 0.1500 - val_accuracy: 0.9409\n",
      "Epoch 9/10\n",
      "142/142 [==============================] - 7s 50ms/step - loss: 0.0839 - accuracy: 0.9747 - val_loss: 0.1418 - val_accuracy: 0.9622\n",
      "Epoch 10/10\n",
      "142/142 [==============================] - 7s 49ms/step - loss: 0.0690 - accuracy: 0.9831 - val_loss: 0.1286 - val_accuracy: 0.9647\n"
     ]
    },
    {
     "data": {
      "text/plain": [
       "<keras.src.callbacks.History at 0x2a03a5a10>"
      ]
     },
     "execution_count": 26,
     "metadata": {},
     "output_type": "execute_result"
    }
   ],
   "source": [
    "#Training the model \n",
    "model.fit(X_train,y_train,validation_data=(X_fn,y_fn),epochs=10,batch_size=100)"
   ]
  },
  {
   "cell_type": "code",
   "execution_count": 28,
   "id": "2d946ac4-6f1d-43fe-baaf-f036cb1d15a1",
   "metadata": {
    "tags": []
   },
   "outputs": [],
   "source": [
    "from sklearn.metrics import accuracy_score"
   ]
  },
  {
   "cell_type": "code",
   "execution_count": 30,
   "id": "ffb6438d-e490-4345-9404-19755c74a2c6",
   "metadata": {
    "tags": []
   },
   "outputs": [
    {
     "name": "stdout",
     "output_type": "stream",
     "text": [
      "190/190 [==============================] - 1s 5ms/step\n"
     ]
    }
   ],
   "source": [
    "y_pred = (model.predict(X_test)>0.5).astype(\"int32\")"
   ]
  },
  {
   "cell_type": "code",
   "execution_count": 31,
   "id": "414ceb44-dce6-4d44-95e3-89e6873faa09",
   "metadata": {
    "tags": []
   },
   "outputs": [
    {
     "data": {
      "text/plain": [
       "0.9114111641692738"
      ]
     },
     "execution_count": 31,
     "metadata": {},
     "output_type": "execute_result"
    }
   ],
   "source": [
    "accuracy_score(y_test,y_pred0\n"
   ]
  },
  {
   "cell_type": "markdown",
   "id": "c3d7c58d-4692-4ddc-a0b5-150e19c613a3",
   "metadata": {},
   "source": [
    "#### From the accuracy score,we have a problem of overfitting in the model."
   ]
  },
  {
   "cell_type": "code",
   "execution_count": 32,
   "id": "4e06e45b-1be8-4a68-81d9-8ce7ffd69f72",
   "metadata": {
    "tags": []
   },
   "outputs": [],
   "source": [
    "#Clearly we have a case of overfitting, we can use various ways such as L1,L2 regularization or dropout method.\n",
    "from tensorflow.keras.layers import Dropout"
   ]
  },
  {
   "cell_type": "code",
   "execution_count": 55,
   "id": "ea2d6398-315d-4b9b-8ee0-9aadfef2b79d",
   "metadata": {
    "tags": []
   },
   "outputs": [
    {
     "name": "stdout",
     "output_type": "stream",
     "text": [
      "Model: \"sequential_12\"\n",
      "_________________________________________________________________\n",
      " Layer (type)                Output Shape              Param #   \n",
      "=================================================================\n",
      " embedding_12 (Embedding)    (None, 50, 20)            200000    \n",
      "                                                                 \n",
      " dropout_21 (Dropout)        (None, 50, 20)            0         \n",
      "                                                                 \n",
      " lstm_12 (LSTM)              (None, 100)               48400     \n",
      "                                                                 \n",
      " dropout_22 (Dropout)        (None, 100)               0         \n",
      "                                                                 \n",
      " dense_12 (Dense)            (None, 1)                 101       \n",
      "                                                                 \n",
      " dropout_23 (Dropout)        (None, 1)                 0         \n",
      "                                                                 \n",
      "=================================================================\n",
      "Total params: 248501 (970.71 KB)\n",
      "Trainable params: 248501 (970.71 KB)\n",
      "Non-trainable params: 0 (0.00 Byte)\n",
      "_________________________________________________________________\n",
      "None\n"
     ]
    }
   ],
   "source": [
    "embedding_vector_features=20\n",
    "model_drop=Sequential()\n",
    "model_drop.add(Embedding(voc_size,embedding_vector_features,input_length=sent_length))\n",
    "model_drop.add(Dropout(0.4))\n",
    "model_drop.add(LSTM(100))\n",
    "model_drop.add(Dropout(0.4))\n",
    "model_drop.add(Dense(1,activation='sigmoid'))\n",
    "model_drop.add(Dropout(0.1))\n",
    "model_drop.compile(loss='binary_crossentropy',optimizer='adam',metrics=['accuracy'])\n",
    "print(model_drop.summary())"
   ]
  },
  {
   "cell_type": "code",
   "execution_count": 57,
   "id": "27903d78-9b15-47e6-8203-0617d30ba1e5",
   "metadata": {
    "tags": []
   },
   "outputs": [
    {
     "name": "stdout",
     "output_type": "stream",
     "text": [
      "Epoch 1/10\n",
      "222/222 [==============================] - 6s 28ms/step - loss: 1.4000 - accuracy: 0.5050 - val_loss: 0.6986 - val_accuracy: 0.5103\n",
      "Epoch 2/10\n",
      "222/222 [==============================] - 6s 27ms/step - loss: 1.2576 - accuracy: 0.6261 - val_loss: 0.6999 - val_accuracy: 0.4971\n",
      "Epoch 3/10\n",
      "222/222 [==============================] - 6s 27ms/step - loss: 1.0475 - accuracy: 0.8290 - val_loss: 0.4255 - val_accuracy: 0.8582\n",
      "Epoch 4/10\n",
      "222/222 [==============================] - 6s 27ms/step - loss: 1.1225 - accuracy: 0.8479 - val_loss: 0.4071 - val_accuracy: 0.8739\n",
      "Epoch 5/10\n",
      "222/222 [==============================] - 6s 27ms/step - loss: 1.0179 - accuracy: 0.8696 - val_loss: 0.4675 - val_accuracy: 0.8833\n",
      "Epoch 6/10\n",
      "222/222 [==============================] - 6s 27ms/step - loss: 1.0731 - accuracy: 0.8754 - val_loss: 0.2596 - val_accuracy: 0.9071\n",
      "Epoch 7/10\n",
      "222/222 [==============================] - 6s 26ms/step - loss: 0.9861 - accuracy: 0.8729 - val_loss: 0.2936 - val_accuracy: 0.8953\n",
      "Epoch 8/10\n",
      "222/222 [==============================] - 6s 26ms/step - loss: 0.8737 - accuracy: 0.9011 - val_loss: 0.2341 - val_accuracy: 0.9180\n",
      "Epoch 9/10\n",
      "222/222 [==============================] - 6s 26ms/step - loss: 0.8740 - accuracy: 0.9140 - val_loss: 0.2494 - val_accuracy: 0.9175\n",
      "Epoch 10/10\n",
      "222/222 [==============================] - 6s 28ms/step - loss: 0.8899 - accuracy: 0.9194 - val_loss: 0.2359 - val_accuracy: 0.9224\n"
     ]
    },
    {
     "data": {
      "text/plain": [
       "<keras.src.callbacks.History at 0x2b2954690>"
      ]
     },
     "execution_count": 57,
     "metadata": {},
     "output_type": "execute_result"
    }
   ],
   "source": [
    "model_drop.fit(X_train,y_train,validation_data=(X_test,y_test),epochs=10,batch_size=64)"
   ]
  },
  {
   "cell_type": "markdown",
   "id": "a55228c3-1625-4685-9a76-aa4b8c00e456",
   "metadata": {
    "tags": []
   },
   "source": [
    "### Above model produces much better results \n"
   ]
  },
  {
   "cell_type": "code",
   "execution_count": 58,
   "id": "6967847e-ca09-4140-9af6-da81366d7ea0",
   "metadata": {
    "tags": []
   },
   "outputs": [
    {
     "name": "stdout",
     "output_type": "stream",
     "text": [
      "190/190 [==============================] - 1s 6ms/step\n"
     ]
    }
   ],
   "source": [
    "y_pred_drop = (model_drop.predict(X_test) > 0.5).astype(\"int32\")"
   ]
  },
  {
   "cell_type": "code",
   "execution_count": 59,
   "id": "d1edbb78-a568-46d6-8812-79516331cda6",
   "metadata": {
    "tags": []
   },
   "outputs": [],
   "source": [
    "from sklearn.metrics import confusion_matrix\n"
   ]
  },
  {
   "cell_type": "code",
   "execution_count": 60,
   "id": "d101fdcd-a8bd-48da-9602-f0130092ba8d",
   "metadata": {
    "tags": []
   },
   "outputs": [
    {
     "data": {
      "text/plain": [
       "array([[2779,  320],\n",
       "       [ 151, 2823]])"
      ]
     },
     "execution_count": 60,
     "metadata": {},
     "output_type": "execute_result"
    }
   ],
   "source": [
    "cf_matrix= confusion_matrix(y_test,y_pred_drop)\n",
    "cf_matrix"
   ]
  },
  {
   "cell_type": "code",
   "execution_count": 63,
   "id": "5726730c-903d-4d66-92de-cd34a66b37c5",
   "metadata": {
    "tags": []
   },
   "outputs": [],
   "source": [
    "from sklearn.metrics import accuracy_score"
   ]
  },
  {
   "cell_type": "code",
   "execution_count": 64,
   "id": "eac1cbeb-2a90-4ea4-a08b-6f30dc8d36ad",
   "metadata": {
    "tags": []
   },
   "outputs": [
    {
     "data": {
      "text/plain": [
       "0.9224436028322082"
      ]
     },
     "execution_count": 64,
     "metadata": {},
     "output_type": "execute_result"
    }
   ],
   "source": [
    "accuracy_score(y_pred_drop,y_test)"
   ]
  },
  {
   "cell_type": "code",
   "execution_count": 65,
   "id": "f71c8c97-d313-4e74-b892-fbc01903949d",
   "metadata": {
    "tags": []
   },
   "outputs": [
    {
     "data": {
      "image/png": "[encoded data removed]",
      "text/plain": [
       "<Figure size 640x480 with 2 Axes>"
      ]
     },
     "metadata": {},
     "output_type": "display_data"
    }
   ],
   "source": [
    "ax = sns.heatmap(cf_matrix, annot=True, cmap='Blues')\n",
    "\n",
    "ax.set_title('Seaborn Confusion Matrix with labels\\n\\n');\n",
    "ax.set_xlabel('\\nPredicted Values')\n",
    "ax.set_ylabel('Actual Values ');\n",
    "\n",
    "## Ticket labels - List must be in alphabetical order\n",
    "ax.xaxis.set_ticklabels(['False','True'])\n",
    "ax.yaxis.set_ticklabels(['False','True'])\n",
    "\n",
    "## Display the visualization of the Confusion Matrix.\n",
    "plt.show()"
   ]
  },
  {
   "cell_type": "code",
   "execution_count": 66,
   "id": "5e409327-e749-4739-a3cd-2ee3276133b0",
   "metadata": {
    "tags": []
   },
   "outputs": [],
   "source": [
    "from sklearn.metrics import classification_report\n"
   ]
  },
  {
   "cell_type": "code",
   "execution_count": 67,
   "id": "3b5e096c-0c2d-427c-ba9d-ba0ced8e8f57",
   "metadata": {
    "tags": []
   },
   "outputs": [
    {
     "data": {
      "text/plain": [
       "'              precision    recall  f1-score   support\\n\\n           0       0.95      0.90      0.92      3099\\n           1       0.90      0.95      0.92      2974\\n\\n    accuracy                           0.92      6073\\n   macro avg       0.92      0.92      0.92      6073\\nweighted avg       0.92      0.92      0.92      6073\\n'"
      ]
     },
     "execution_count": 67,
     "metadata": {},
     "output_type": "execute_result"
    }
   ],
   "source": [
    "classification_report(y_test,y_pred_drop)"
   ]
  },
  {
   "cell_type": "code",
   "execution_count": null,
   "id": "2c4d2805-4871-4fa0-9e60-c6f4f517cf94",
   "metadata": {
    "tags": []
   },
   "outputs": [],
   "source": [
    "\n"
   ]
  },
  {
   "cell_type": "code",
   "execution_count": null,
   "id": "7cfbd158-5483-48fb-b573-972a71ab11d5",
   "metadata": {},
   "outputs": [],
   "source": []
  }
 ],
 "metadata": {
  "kernelspec": {
   "display_name": "Python 3 (ipykernel)",
   "language": "python",
   "name": "python3"
  },
  "language_info": {
   "codemirror_mode": {
    "name": "ipython",
    "version": 3
   },
   "file_extension": ".py",
   "mimetype": "text/x-python",
   "name": "python",
   "nbconvert_exporter": "python",
   "pygments_lexer": "ipython3",
   "version": "3.11.3"
  }
 },
 "nbformat": 4,
 "nbformat_minor": 5
}
